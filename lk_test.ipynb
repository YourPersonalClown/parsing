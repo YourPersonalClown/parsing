{
 "cells": [
  {
   "cell_type": "code",
   "execution_count": 35,
   "metadata": {},
   "outputs": [],
   "source": [
    "import pandas as pd"
   ]
  },
  {
   "cell_type": "code",
   "execution_count": 36,
   "metadata": {},
   "outputs": [],
   "source": [
    "excel_data = pd.read_excel(\"погрузки с кодами.xlsx\")"
   ]
  },
  {
   "cell_type": "code",
   "execution_count": 37,
   "metadata": {},
   "outputs": [],
   "source": [
    "from selenium import webdriver\n",
    "from selenium.webdriver.common.keys import Keys\n",
    "from selenium.webdriver.support.ui import WebDriverWait\n",
    "from selenium.webdriver.support import expected_conditions as EC\n",
    "from selenium.webdriver.common.by import By\n",
    "# инициализация драйвера браузера\n",
    "driver = webdriver.Chrome()\n",
    "\n",
    "# configs\n",
    "driver.get(\"https://lk.railfgk.ru/\")\n",
    "date = {'begin':\"06.05.2023\",\n",
    "        'end':'31.05.2023'}\n",
    "user_data ={\n",
    "    'log':\"tender@icmrus.com\",\n",
    "    'pass':\"Ktybyuhflrf-43a\"\n",
    "}\n",
    "\n",
    "wait = WebDriverWait(driver, 10)\n",
    "element = wait.until(EC.presence_of_element_located((By.NAME, \"email\")))\n",
    "\n",
    "# Авторизация\n",
    "email_box = driver.find_element_by_name(\"email\")\n",
    "email_box.send_keys(user_data['log'])\n",
    "pass_box = driver.find_element_by_name('password')\n",
    "pass_box.send_keys(user_data['pass'])\n",
    "# pass_box.submit()\n",
    "pass_box = driver.find_element_by_name(\"password\").send_keys(Keys.ENTER)"
   ]
  },
  {
   "cell_type": "code",
   "execution_count": 6,
   "metadata": {},
   "outputs": [],
   "source": [
    "\n",
    "# driver.quit()"
   ]
  },
  {
   "cell_type": "code",
   "execution_count": 38,
   "metadata": {},
   "outputs": [],
   "source": [
    "driver.get(\"https://lk.railfgk.ru/client/doc/price/rates/create/\")"
   ]
  },
  {
   "cell_type": "code",
   "execution_count": 39,
   "metadata": {},
   "outputs": [],
   "source": [
    "# выбираем платформу\n",
    "chizz = driver.find_elements_by_class_name(\"v-select__selection\")\n",
    "chizz[2].click()\n",
    "list_element = driver.find_elements_by_class_name(\"v-list-item__content\")\n",
    "list_element[-1].click()"
   ]
  },
  {
   "cell_type": "code",
   "execution_count": 40,
   "metadata": {},
   "outputs": [],
   "source": [
    "# прописываем дату\n",
    "date_element = driver.find_element_by_xpath(\"//input[@data-vv-name='rate__head__start_date']\")\n",
    "for i in range(10):\n",
    "    date_element.send_keys(Keys.BACKSPACE)\n",
    " \n",
    "date_element.send_keys(date['begin'])\n",
    "# date_beg = button_element[0]\n",
    "date_element.send_keys(Keys.ENTER)"
   ]
  },
  {
   "cell_type": "code",
   "execution_count": 43,
   "metadata": {},
   "outputs": [],
   "source": [
    "checkbox = driver.find_element_by_xpath('//*[@id=\"app\"]/div[1]/div[2]/main/div/div/div[2]/div/div/div/div/form/div[1]/div[1]/div/div[2]/div[12]/div/div/div[1]/label')\n",
    "checkbox.click()\n"
   ]
  },
  {
   "cell_type": "markdown",
   "metadata": {},
   "source": [
    "850007\t864300"
   ]
  },
  {
   "cell_type": "code",
   "execution_count": 45,
   "metadata": {},
   "outputs": [
    {
     "ename": "TypeError",
     "evalue": "list indices must be integers or slices, not list",
     "output_type": "error",
     "traceback": [
      "\u001b[1;31m---------------------------------------------------------------------------\u001b[0m",
      "\u001b[1;31mTypeError\u001b[0m                                 Traceback (most recent call last)",
      "\u001b[1;32md:\\работа ПСМ\\коды\\lk_test.ipynb Ячейка 10\u001b[0m in \u001b[0;36m<cell line: 1>\u001b[1;34m()\u001b[0m\n\u001b[1;32m----> <a href='vscode-notebook-cell:/d%3A/%D1%80%D0%B0%D0%B1%D0%BE%D1%82%D0%B0%20%D0%9F%D0%A1%D0%9C/%D0%BA%D0%BE%D0%B4%D1%8B/lk_test.ipynb#X22sZmlsZQ%3D%3D?line=0'>1</a>\u001b[0m excel_data \u001b[39m=\u001b[39m excel_data[[\u001b[39m'\u001b[39;49m\u001b[39mкод станции отправления\u001b[39;49m\u001b[39m'\u001b[39;49m,\u001b[39m'\u001b[39;49m\u001b[39mкод станции назначения\u001b[39;49m\u001b[39m'\u001b[39;49m,\u001b[39m'\u001b[39;49m\u001b[39mВыручка без НДС\u001b[39;49m\u001b[39m'\u001b[39;49m, \u001b[39m'\u001b[39;49m\u001b[39mНаименование груза ЕТСНГ\u001b[39;49m\u001b[39m'\u001b[39;49m]]\u001b[39m.\u001b[39mvalues\u001b[39m.\u001b[39mtolist()\n",
      "\u001b[1;31mTypeError\u001b[0m: list indices must be integers or slices, not list"
     ]
    }
   ],
   "source": [
    "excel_data = excel_data[['код станции отправления','код станции назначения','Выручка без НДС', 'Наименование груза ЕТСНГ']].values.tolist()"
   ]
  },
  {
   "cell_type": "code",
   "execution_count": 46,
   "metadata": {},
   "outputs": [],
   "source": [
    "path_a = driver.find_element_by_xpath(\"//input[@data-vv-name='rate__route__st_from_name']\")\n",
    "path_a.send_keys(excel_data[0][0])\n",
    "\n",
    "# submit_path_a = driver.find_element_by_xpath('//*[@id=\"list-355\"]')\n",
    "\n"
   ]
  },
  {
   "cell_type": "code",
   "execution_count": 47,
   "metadata": {},
   "outputs": [],
   "source": [
    "\n",
    "# path_a.send_keys(Keys.ARROW_DOWN)\n",
    "path_a.send_keys(Keys.ENTER)"
   ]
  },
  {
   "cell_type": "code",
   "execution_count": 49,
   "metadata": {},
   "outputs": [],
   "source": [
    "path_b = driver.find_element_by_xpath(\"//input[@data-vv-name='rate__route__st_to_name']\")\n",
    "path_b.send_keys(excel_data[0][1])"
   ]
  },
  {
   "cell_type": "code",
   "execution_count": 50,
   "metadata": {},
   "outputs": [],
   "source": [
    "\n",
    "\n",
    "path_b.send_keys(Keys.ENTER)"
   ]
  }
 ],
 "metadata": {
  "kernelspec": {
   "display_name": "base",
   "language": "python",
   "name": "python3"
  },
  "language_info": {
   "codemirror_mode": {
    "name": "ipython",
    "version": 3
   },
   "file_extension": ".py",
   "mimetype": "text/x-python",
   "name": "python",
   "nbconvert_exporter": "python",
   "pygments_lexer": "ipython3",
   "version": "3.9.12"
  },
  "orig_nbformat": 4
 },
 "nbformat": 4,
 "nbformat_minor": 2
}
