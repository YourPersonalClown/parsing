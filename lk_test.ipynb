{
 "cells": [
  {
   "cell_type": "code",
   "execution_count": null,
   "metadata": {},
   "outputs": [],
   "source": [
    "import pandas as pd"
   ]
  },
  {
   "cell_type": "code",
   "execution_count": 163,
   "metadata": {},
   "outputs": [],
   "source": [
    "df = pd.read_excel(\"погрузки с кодами.xlsx\")"
   ]
  },
  {
   "cell_type": "code",
   "execution_count": 164,
   "metadata": {},
   "outputs": [
    {
     "data": {
      "text/html": [
       "<div>\n",
       "<style scoped>\n",
       "    .dataframe tbody tr th:only-of-type {\n",
       "        vertical-align: middle;\n",
       "    }\n",
       "\n",
       "    .dataframe tbody tr th {\n",
       "        vertical-align: top;\n",
       "    }\n",
       "\n",
       "    .dataframe thead th {\n",
       "        text-align: right;\n",
       "    }\n",
       "</style>\n",
       "<table border=\"1\" class=\"dataframe\">\n",
       "  <thead>\n",
       "    <tr style=\"text-align: right;\">\n",
       "      <th></th>\n",
       "      <th>Станция отправления</th>\n",
       "      <th>Станция назначения</th>\n",
       "      <th>Выручка без НДС</th>\n",
       "      <th>Наименование груза ЕТСНГ</th>\n",
       "      <th>код станции отправления</th>\n",
       "      <th>код станции назначения</th>\n",
       "    </tr>\n",
       "  </thead>\n",
       "  <tbody>\n",
       "    <tr>\n",
       "      <th>0</th>\n",
       "      <td>ИНСКАЯ</td>\n",
       "      <td>АБАГУР-ЛЕСНОЙ</td>\n",
       "      <td>54500.0</td>\n",
       "      <td>ПЕРЕВОДЫ СТРЕЛОЧНЫЕ</td>\n",
       "      <td>850007</td>\n",
       "      <td>864300</td>\n",
       "    </tr>\n",
       "    <tr>\n",
       "      <th>1</th>\n",
       "      <td>НЯНДОМА</td>\n",
       "      <td>АБЛЫК</td>\n",
       "      <td>12500.0</td>\n",
       "      <td>ПИЛОМАТЕРИАЛЫ, НЕ ПОИМЕНОВАННЫЕ В АЛФАВИТЕ</td>\n",
       "      <td>293609</td>\n",
       "      <td>722701</td>\n",
       "    </tr>\n",
       "    <tr>\n",
       "      <th>2</th>\n",
       "      <td>ПОДОСИНОВЕЦ</td>\n",
       "      <td>АДЛЕР</td>\n",
       "      <td>65000.0</td>\n",
       "      <td>ПИЛОМАТЕРИАЛЫ, НЕ ПОИМЕНОВАННЫЕ В АЛФАВИТЕ</td>\n",
       "      <td>272903</td>\n",
       "      <td>532805</td>\n",
       "    </tr>\n",
       "    <tr>\n",
       "      <th>3</th>\n",
       "      <td>АЛМАТЫ I</td>\n",
       "      <td>АК-КУЛЬ</td>\n",
       "      <td>27084.0</td>\n",
       "      <td>ИЗДЕЛИЯ ЖЕЛЕЗОБЕТОННЫЕ, НЕ ПОИМЕНОВАННЫЕ В АЛФ...</td>\n",
       "      <td>700007</td>\n",
       "      <td>692601</td>\n",
       "    </tr>\n",
       "    <tr>\n",
       "      <th>4</th>\n",
       "      <td>ЖИНИШКЕ</td>\n",
       "      <td>АКЖАЙЫК</td>\n",
       "      <td>25000.0</td>\n",
       "      <td>ИЗДЕЛИЯ ЖЕЛЕЗОБЕТОННЫЕ, НЕ ПОИМЕНОВАННЫЕ В АЛФ...</td>\n",
       "      <td>667805</td>\n",
       "      <td>661601</td>\n",
       "    </tr>\n",
       "  </tbody>\n",
       "</table>\n",
       "</div>"
      ],
      "text/plain": [
       "  Станция отправления Станция назначения  Выручка без НДС  \\\n",
       "0              ИНСКАЯ      АБАГУР-ЛЕСНОЙ          54500.0   \n",
       "1             НЯНДОМА              АБЛЫК          12500.0   \n",
       "2         ПОДОСИНОВЕЦ              АДЛЕР          65000.0   \n",
       "3            АЛМАТЫ I            АК-КУЛЬ          27084.0   \n",
       "4             ЖИНИШКЕ            АКЖАЙЫК          25000.0   \n",
       "\n",
       "                            Наименование груза ЕТСНГ  код станции отправления  \\\n",
       "0                                ПЕРЕВОДЫ СТРЕЛОЧНЫЕ                   850007   \n",
       "1         ПИЛОМАТЕРИАЛЫ, НЕ ПОИМЕНОВАННЫЕ В АЛФАВИТЕ                   293609   \n",
       "2         ПИЛОМАТЕРИАЛЫ, НЕ ПОИМЕНОВАННЫЕ В АЛФАВИТЕ                   272903   \n",
       "3  ИЗДЕЛИЯ ЖЕЛЕЗОБЕТОННЫЕ, НЕ ПОИМЕНОВАННЫЕ В АЛФ...                   700007   \n",
       "4  ИЗДЕЛИЯ ЖЕЛЕЗОБЕТОННЫЕ, НЕ ПОИМЕНОВАННЫЕ В АЛФ...                   667805   \n",
       "\n",
       "   код станции назначения  \n",
       "0                  864300  \n",
       "1                  722701  \n",
       "2                  532805  \n",
       "3                  692601  \n",
       "4                  661601  "
      ]
     },
     "execution_count": 164,
     "metadata": {},
     "output_type": "execute_result"
    }
   ],
   "source": [
    "df.head()"
   ]
  },
  {
   "cell_type": "code",
   "execution_count": 124,
   "metadata": {},
   "outputs": [],
   "source": [
    "from selenium import webdriver\n",
    "from selenium.webdriver.common.keys import Keys\n",
    "from selenium.webdriver.support.ui import WebDriverWait\n",
    "from selenium.webdriver.support import expected_conditions as EC\n",
    "from selenium.webdriver.common.by import By\n",
    "# инициализация драйвера браузера\n",
    "driver = webdriver.Chrome()\n",
    "\n",
    "# configs\n",
    "driver.get(\"https://lk.railfgk.ru/\")\n",
    "date = {'begin':\"06.05.2023\",\n",
    "        'end':'31.05.2023'}\n",
    "user_data ={\n",
    "    'log':\"tender@icmrus.com\",\n",
    "    'pass':\"Ktybyuhflrf-43a\"\n",
    "}\n",
    "\n",
    "wait = WebDriverWait(driver, 10)\n",
    "element = wait.until(EC.presence_of_element_located((By.NAME, \"email\")))\n",
    "\n",
    "# Авторизация\n",
    "email_box = driver.find_element_by_name(\"email\")\n",
    "email_box.send_keys(user_data['log'])\n",
    "pass_box = driver.find_element_by_name('password')\n",
    "pass_box.send_keys(user_data['pass'])\n",
    "# pass_box.submit()\n",
    "pass_box = driver.find_element_by_name(\"password\").send_keys(Keys.ENTER)"
   ]
  },
  {
   "cell_type": "code",
   "execution_count": null,
   "metadata": {},
   "outputs": [],
   "source": [
    "\n",
    "# # Авторизация\n",
    "# email_box = driver.find_element_by_name(\"email\")\n",
    "# email_box.send_keys(user_data['log'])\n",
    "# pass_box = driver.find_element_by_name('password')\n",
    "# pass_box.send_keys(user_data['pass'])\n",
    "# # pass_box.submit()\n",
    "# pass_box = driver.find_element_by_name(\"password\").send_keys(Keys.ENTER)\n",
    "\n"
   ]
  },
  {
   "cell_type": "code",
   "execution_count": null,
   "metadata": {},
   "outputs": [],
   "source": [
    "\n",
    "driver.quit()"
   ]
  },
  {
   "cell_type": "code",
   "execution_count": 125,
   "metadata": {},
   "outputs": [],
   "source": [
    "driver.get(\"https://lk.railfgk.ru/client/doc/price/rates/create/\")"
   ]
  },
  {
   "cell_type": "code",
   "execution_count": 126,
   "metadata": {},
   "outputs": [],
   "source": [
    "# выбираем платформу\n",
    "chizz = driver.find_elements_by_class_name(\"v-select__selection\")\n",
    "chizz[2].click()\n",
    "list_element = driver.find_elements_by_class_name(\"v-list-item__content\")\n",
    "list_element[-1].click()"
   ]
  },
  {
   "cell_type": "code",
   "execution_count": 127,
   "metadata": {},
   "outputs": [],
   "source": [
    "# прописываем дату\n",
    "date_element = driver.find_element_by_xpath(\"//input[@data-vv-name='rate__head__start_date']\")\n",
    "for i in range(10):\n",
    "    date_element.send_keys(Keys.BACKSPACE)\n",
    " \n",
    "date_element.send_keys(date['begin'])\n",
    "# date_beg = button_element[0]\n",
    "date_element.send_keys(Keys.ENTER)"
   ]
  },
  {
   "cell_type": "code",
   "execution_count": 128,
   "metadata": {},
   "outputs": [],
   "source": [
    "checkbox = driver.find_element_by_xpath('//*[@id=\"app\"]/div[1]/div[2]/main/div/div/div[2]/div/div/div/div/form/div[1]/div[1]/div/div[2]/div[12]/div/div/div[1]/label')\n",
    "checkbox.click()\n"
   ]
  },
  {
   "cell_type": "markdown",
   "metadata": {},
   "source": [
    "850007\t864300"
   ]
  },
  {
   "cell_type": "code",
   "execution_count": 154,
   "metadata": {},
   "outputs": [],
   "source": [
    "path_a = driver.find_element_by_xpath(\"//input[@data-vv-name='rate__route__st_from_name']\")\n",
    "path_a.send_keys('850007')\n",
    "\n",
    "# submit_path_a = driver.find_element_by_xpath('//*[@id=\"list-355\"]')\n",
    "\n"
   ]
  },
  {
   "cell_type": "code",
   "execution_count": 155,
   "metadata": {},
   "outputs": [],
   "source": [
    "\n",
    "path_a.send_keys(Keys.ARROW_DOWN)\n",
    "path_a.send_keys(Keys.ENTER)"
   ]
  },
  {
   "cell_type": "code",
   "execution_count": 159,
   "metadata": {},
   "outputs": [],
   "source": [
    "path_b = driver.find_element_by_xpath(\"//input[@data-vv-name='rate__route__st_to_name']\")\n",
    "path_b.send_keys('864300')\n"
   ]
  },
  {
   "cell_type": "code",
   "execution_count": 160,
   "metadata": {},
   "outputs": [],
   "source": [
    "\n",
    "path_b.send_keys(Keys.ARROW_DOWN)\n",
    "path_b.send_keys(Keys.ENTER)"
   ]
  }
 ],
 "metadata": {
  "kernelspec": {
   "display_name": "base",
   "language": "python",
   "name": "python3"
  },
  "language_info": {
   "codemirror_mode": {
    "name": "ipython",
    "version": 3
   },
   "file_extension": ".py",
   "mimetype": "text/x-python",
   "name": "python",
   "nbconvert_exporter": "python",
   "pygments_lexer": "ipython3",
   "version": "3.9.12"
  },
  "orig_nbformat": 4
 },
 "nbformat": 4,
 "nbformat_minor": 2
}
