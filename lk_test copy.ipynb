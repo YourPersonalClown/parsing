{
 "cells": [
  {
   "cell_type": "code",
   "execution_count": 5,
   "metadata": {
    "collapsed": false
   },
   "outputs": [],
   "source": [
    "# driver.quit()\n",
    "import xpath_data"
   ]
  },
  {
   "cell_type": "code",
   "execution_count": 18,
   "metadata": {},
   "outputs": [],
   "source": []
  },
  {
   "cell_type": "code",
   "execution_count": 27,
   "metadata": {
    "ExecuteTime": {
     "end_time": "2023-05-03T14:30:11.718176200Z",
     "start_time": "2023-05-03T14:29:43.629504100Z"
    },
    "collapsed": false
   },
   "outputs": [
    {
     "ename": "NoSuchWindowException",
     "evalue": "Message: no such window: target window already closed\nfrom unknown error: web view not found\n  (Session info: chrome=112.0.5615.138)\n",
     "output_type": "error",
     "traceback": [
      "\u001b[1;31m---------------------------------------------------------------------------\u001b[0m",
      "\u001b[1;31mNoSuchWindowException\u001b[0m                     Traceback (most recent call last)",
      "\u001b[1;32md:\\git_prog\\parsing\\lk_test copy.ipynb Ячейка 3\u001b[0m in \u001b[0;36m<cell line: 48>\u001b[1;34m()\u001b[0m\n\u001b[0;32m    <a href='vscode-notebook-cell:/d%3A/git_prog/parsing/lk_test%20copy.ipynb#W1sZmlsZQ%3D%3D?line=116'>117</a>\u001b[0m cargo\u001b[39m.\u001b[39msend_keys(\u001b[39m'\u001b[39m\u001b[39mПИЛОМАТЕРИАЛЫ, НЕ ПОИМЕНОВАННЫЕ В АЛФАВИТЕ\u001b[39m\u001b[39m'\u001b[39m)\n\u001b[0;32m    <a href='vscode-notebook-cell:/d%3A/git_prog/parsing/lk_test%20copy.ipynb#W1sZmlsZQ%3D%3D?line=117'>118</a>\u001b[0m time\u001b[39m.\u001b[39msleep(\u001b[39m2\u001b[39m)\n\u001b[1;32m--> <a href='vscode-notebook-cell:/d%3A/git_prog/parsing/lk_test%20copy.ipynb#W1sZmlsZQ%3D%3D?line=118'>119</a>\u001b[0m cargo\u001b[39m.\u001b[39;49msend_keys(Keys\u001b[39m.\u001b[39;49mENTER)\n\u001b[0;32m    <a href='vscode-notebook-cell:/d%3A/git_prog/parsing/lk_test%20copy.ipynb#W1sZmlsZQ%3D%3D?line=121'>122</a>\u001b[0m \u001b[39m#Рассчет\u001b[39;00m\n\u001b[0;32m    <a href='vscode-notebook-cell:/d%3A/git_prog/parsing/lk_test%20copy.ipynb#W1sZmlsZQ%3D%3D?line=122'>123</a>\u001b[0m \u001b[39mtry\u001b[39;00m:\n",
      "File \u001b[1;32md:\\Users\\HUAWEI\\anaconda3\\lib\\site-packages\\selenium\\webdriver\\remote\\webelement.py:477\u001b[0m, in \u001b[0;36mWebElement.send_keys\u001b[1;34m(self, *value)\u001b[0m\n\u001b[0;32m    474\u001b[0m     \u001b[39mif\u001b[39;00m local_file \u001b[39mis\u001b[39;00m \u001b[39mnot\u001b[39;00m \u001b[39mNone\u001b[39;00m:\n\u001b[0;32m    475\u001b[0m         value \u001b[39m=\u001b[39m \u001b[39mself\u001b[39m\u001b[39m.\u001b[39m_upload(local_file)\n\u001b[1;32m--> 477\u001b[0m \u001b[39mself\u001b[39;49m\u001b[39m.\u001b[39;49m_execute(Command\u001b[39m.\u001b[39;49mSEND_KEYS_TO_ELEMENT,\n\u001b[0;32m    478\u001b[0m               {\u001b[39m'\u001b[39;49m\u001b[39mtext\u001b[39;49m\u001b[39m'\u001b[39;49m: \u001b[39m\"\u001b[39;49m\u001b[39m\"\u001b[39;49m\u001b[39m.\u001b[39;49mjoin(keys_to_typing(value)),\n\u001b[0;32m    479\u001b[0m                \u001b[39m'\u001b[39;49m\u001b[39mvalue\u001b[39;49m\u001b[39m'\u001b[39;49m: keys_to_typing(value)})\n",
      "File \u001b[1;32md:\\Users\\HUAWEI\\anaconda3\\lib\\site-packages\\selenium\\webdriver\\remote\\webelement.py:633\u001b[0m, in \u001b[0;36mWebElement._execute\u001b[1;34m(self, command, params)\u001b[0m\n\u001b[0;32m    631\u001b[0m     params \u001b[39m=\u001b[39m {}\n\u001b[0;32m    632\u001b[0m params[\u001b[39m'\u001b[39m\u001b[39mid\u001b[39m\u001b[39m'\u001b[39m] \u001b[39m=\u001b[39m \u001b[39mself\u001b[39m\u001b[39m.\u001b[39m_id\n\u001b[1;32m--> 633\u001b[0m \u001b[39mreturn\u001b[39;00m \u001b[39mself\u001b[39;49m\u001b[39m.\u001b[39;49m_parent\u001b[39m.\u001b[39;49mexecute(command, params)\n",
      "File \u001b[1;32md:\\Users\\HUAWEI\\anaconda3\\lib\\site-packages\\selenium\\webdriver\\remote\\webdriver.py:321\u001b[0m, in \u001b[0;36mWebDriver.execute\u001b[1;34m(self, driver_command, params)\u001b[0m\n\u001b[0;32m    319\u001b[0m response \u001b[39m=\u001b[39m \u001b[39mself\u001b[39m\u001b[39m.\u001b[39mcommand_executor\u001b[39m.\u001b[39mexecute(driver_command, params)\n\u001b[0;32m    320\u001b[0m \u001b[39mif\u001b[39;00m response:\n\u001b[1;32m--> 321\u001b[0m     \u001b[39mself\u001b[39;49m\u001b[39m.\u001b[39;49merror_handler\u001b[39m.\u001b[39;49mcheck_response(response)\n\u001b[0;32m    322\u001b[0m     response[\u001b[39m'\u001b[39m\u001b[39mvalue\u001b[39m\u001b[39m'\u001b[39m] \u001b[39m=\u001b[39m \u001b[39mself\u001b[39m\u001b[39m.\u001b[39m_unwrap_value(\n\u001b[0;32m    323\u001b[0m         response\u001b[39m.\u001b[39mget(\u001b[39m'\u001b[39m\u001b[39mvalue\u001b[39m\u001b[39m'\u001b[39m, \u001b[39mNone\u001b[39;00m))\n\u001b[0;32m    324\u001b[0m     \u001b[39mreturn\u001b[39;00m response\n",
      "File \u001b[1;32md:\\Users\\HUAWEI\\anaconda3\\lib\\site-packages\\selenium\\webdriver\\remote\\errorhandler.py:242\u001b[0m, in \u001b[0;36mErrorHandler.check_response\u001b[1;34m(self, response)\u001b[0m\n\u001b[0;32m    240\u001b[0m         alert_text \u001b[39m=\u001b[39m value[\u001b[39m'\u001b[39m\u001b[39malert\u001b[39m\u001b[39m'\u001b[39m]\u001b[39m.\u001b[39mget(\u001b[39m'\u001b[39m\u001b[39mtext\u001b[39m\u001b[39m'\u001b[39m)\n\u001b[0;32m    241\u001b[0m     \u001b[39mraise\u001b[39;00m exception_class(message, screen, stacktrace, alert_text)\n\u001b[1;32m--> 242\u001b[0m \u001b[39mraise\u001b[39;00m exception_class(message, screen, stacktrace)\n",
      "\u001b[1;31mNoSuchWindowException\u001b[0m: Message: no such window: target window already closed\nfrom unknown error: web view not found\n  (Session info: chrome=112.0.5615.138)\n"
     ]
    }
   ],
   "source": [
    "import pandas as pd\n",
    "import xpath_data\n",
    "import time\n",
    "from random import randint\n",
    "from selenium import webdriver\n",
    "from selenium.webdriver.common.keys import Keys\n",
    "from selenium.webdriver.support.ui import WebDriverWait\n",
    "from selenium.webdriver.support import expected_conditions as EC\n",
    "from selenium.webdriver.common.by import By\n",
    "\n",
    "\n",
    "code_begin = []\n",
    "code_end = []\n",
    "money_psm = []\n",
    "money_fgp = []\n",
    "\n",
    "\n",
    "# инициализация драйвера браузера\n",
    "driver = webdriver.Chrome()\n",
    "\n",
    "# входные данные\n",
    "count = 10\n",
    "driver.get(\"https://lk.railfgk.ru/\")\n",
    "date = {'begin': \"06.05.2023\",\n",
    "        'end': '31.05.2023'}\n",
    "user_data = {\n",
    "    'log': \"tender@icmrus.com\",\n",
    "    'pass': \"Ktybyuhflrf-43a\"}\n",
    "excel_data = pd.read_excel(\"погрузки с кодами2.xlsx\", dtype=str)\n",
    "excel_data = excel_data[['код станции отправления', 'код станции назначения', 'наша ставка']].values.tolist()\n",
    "\n",
    "list_data  =  excel_data\n",
    "\n",
    "# Авторизация\n",
    "\n",
    "email_box = driver.find_element(\"name\", \"email\")\n",
    "email_box.send_keys(user_data['log'])\n",
    "pass_box = driver.find_element(\"name\", 'password')\n",
    "pass_box.send_keys(user_data['pass'])\n",
    "pass_box = driver.find_element(\"name\", \"password\").send_keys(Keys.ENTER)\n",
    "wait = WebDriverWait(driver, 10, 0.5)\n",
    "time.sleep(3)\n",
    "\n",
    "\n",
    "\n",
    "\n",
    "\n",
    "for data in list_data:\n",
    "\n",
    "    driver.get(\"https://lk.railfgk.ru/client/doc/price/rates/create/\")\n",
    "    time.sleep(2)\n",
    "\n",
    "    # выбираем платформу\n",
    "    wait = WebDriverWait(driver, 10, 0.5)\n",
    "    element = wait.until(EC.visibility_of_element_located((By.XPATH,xpath_data.rps_element_xpath)))\n",
    "    time.sleep(3)\n",
    "    rps_element = driver.find_element(\"xpath\", xpath_data.rps_element_xpath).click()\n",
    "\n",
    "    wait = WebDriverWait(driver, 10, 0.5)\n",
    "    element = wait.until(EC.visibility_of_element_located((By.XPATH,xpath_data.rps_found_xpath)))\n",
    "    time.sleep(3)\n",
    "    rps_element = driver.find_element(\"xpath\", xpath_data.rps_found_xpath).click()\n",
    "\n",
    "\n",
    "    # прописываем дату\n",
    "    wait = WebDriverWait(driver, 10, 0.5)\n",
    "    element = wait.until(EC.visibility_of_element_located((By.XPATH, xpath_data.begin_date_xpath)))\n",
    "    time.sleep(3)\n",
    "    date_element = driver.find_element(\"xpath\", xpath_data.begin_date_xpath)\n",
    "\n",
    "    for i in range(10):\n",
    "        date_element.send_keys(Keys.BACKSPACE)\n",
    "\n",
    "\n",
    "\n",
    "\n",
    "\n",
    "\n",
    "\n",
    "    date_element.send_keys(date['begin'])\n",
    "    date_element.send_keys(Keys.ENTER)\n",
    "\n",
    "    #согласие\n",
    "    wait = WebDriverWait(driver, 10, 0.5)\n",
    "    element = wait.until(EC.visibility_of_element_located((By.XPATH, xpath_data.checkbox_xpath)))\n",
    "    time.sleep(2)\n",
    "    checkbox = driver.find_element(\"xpath\", xpath_data.checkbox_xpath)\n",
    "    checkbox.click()\n",
    "    time.sleep(1)\n",
    "\n",
    "    #Станции\n",
    "    wait = WebDriverWait(driver, 10, 0.5)\n",
    "    element = wait.until(EC.visibility_of_element_located((By.XPATH, xpath_data.begin_station_xpath)))\n",
    "    time.sleep(1)\n",
    "    begin_station = driver.find_element(\"xpath\", xpath_data.begin_station_xpath)\n",
    "    begin_station.send_keys(data[0])\n",
    "    time.sleep(1)\n",
    "    begin_station.send_keys(Keys.ENTER)\n",
    "    time.sleep(1)\n",
    "\n",
    "    wait = WebDriverWait(driver, 10, 0.5)\n",
    "    element = wait.until(EC.visibility_of_element_located((By.XPATH, xpath_data.end_station_xpath)))\n",
    "    time.sleep(1)\n",
    "    end_station_ = driver.find_element(\"xpath\", xpath_data.end_station_xpath)\n",
    "    end_station_.send_keys(data[1])\n",
    "    time.sleep(1)\n",
    "    end_station_.send_keys(Keys.ENTER)\n",
    "    time.sleep(1)\n",
    "\n",
    "\n",
    "    # Грузы\n",
    "    wait = WebDriverWait(driver, 10, 0.5)\n",
    "    element = wait.until(EC.visibility_of_element_located((By.XPATH, xpath_data.cargo_xpath)))\n",
    "    time.sleep(1)\n",
    "    cargo = driver.find_element(\"xpath\", \"//input[@data-vv-name='rate__cargo__cargo']\" )\n",
    "    cargo.click()\n",
    "    cargo.send_keys('ПИЛОМАТЕРИАЛЫ, НЕ ПОИМЕНОВАННЫЕ В АЛФАВИТЕ')\n",
    "    time.sleep(2)\n",
    "    cargo.send_keys(Keys.ENTER)\n",
    "\n",
    "\n",
    "    #Рассчет\n",
    "    try:\n",
    "        wait = WebDriverWait(driver, 90, 0.5)\n",
    "\n",
    "        input_data = driver.find_element(\"xpath\", xpath_data.input_data_xpath ).click()\n",
    "        element = wait.until(EC.visibility_of_element_located((By.XPATH, \"//input[@data-vv-name='rate__result__z_stavka']\")))\n",
    "        money_found = driver.find_element(\"xpath\", \"//input[@data-vv-name='rate__result__z_stavka']\")\n",
    "        money_found = money_found.get_attribute('value')\n",
    "\n",
    "        code_begin.append(data[0])\n",
    "        code_end.append(data[1])\n",
    "        money_psm.append(data[2])\n",
    "        money_fgp.append(money_found)\n",
    "\n",
    "    except:    \n",
    "        log = data\n",
    "        print(log)\n",
    "        break\n",
    "\n",
    "\n",
    "    time.sleep(90)\n",
    "\n",
    "\n",
    "final_data = pd.DataFrame({\n",
    "'код станции отправления' : code_begin,\n",
    "'код станции назначения' : code_end,\n",
    "'наша ставка' : money_psm,\n",
    "'ставка фгп ':money_fgp \n",
    "}\n",
    ")\n",
    "\n",
    "\n",
    "\n"
   ]
  },
  {
   "cell_type": "code",
   "execution_count": 25,
   "metadata": {},
   "outputs": [
    {
     "data": {
      "text/plain": [
       "['788501', '700100', '91200']"
      ]
     },
     "execution_count": 25,
     "metadata": {},
     "output_type": "execute_result"
    }
   ],
   "source": []
  },
  {
   "cell_type": "code",
   "execution_count": 26,
   "metadata": {},
   "outputs": [
    {
     "data": {
      "text/plain": [
       "'94149.23'"
      ]
     },
     "execution_count": 26,
     "metadata": {},
     "output_type": "execute_result"
    }
   ],
   "source": []
  },
  {
   "cell_type": "code",
   "execution_count": 25,
   "metadata": {
    "ExecuteTime": {
     "end_time": "2023-05-03T14:42:03.626436500Z",
     "start_time": "2023-05-03T14:42:03.563279100Z"
    },
    "collapsed": false
   },
   "outputs": [
    {
     "name": "stdout",
     "output_type": "stream",
     "text": [
      "Ставка без НДС, руб.\n"
     ]
    }
   ],
   "source": [
    "text = driver.find_element(By.XPATH, '//*[@id=\"app\"]/div[1]/div[2]/main/div/div/div[2]/div/div/div/div/form/div[2]/div[3]/div/div[2]/div[1]/div/div/div[1]').text\n",
    "print(text)\n"
   ]
  },
  {
   "cell_type": "code",
   "execution_count": null,
   "metadata": {},
   "outputs": [],
   "source": [
    "end_station_ = driver.find_element(\"xpath\", xpath_data.end_station_xpath)\n",
    "end_station_.send_keys(excel_data[0][1])\n",
    "time.sleep(1)\n",
    "end_station_.send_keys(Keys.ENTER)\n",
    "time.sleep(1)"
   ]
  },
  {
   "cell_type": "code",
   "execution_count": 16,
   "metadata": {
    "ExecuteTime": {
     "end_time": "2023-05-03T14:38:45.917734300Z",
     "start_time": "2023-05-03T14:38:45.917734300Z"
    },
    "collapsed": false
   },
   "outputs": [
    {
     "ename": "NoSuchWindowException",
     "evalue": "Message: no such window: target window already closed\nfrom unknown error: web view not found\n  (Session info: chrome=112.0.5615.138)\n",
     "output_type": "error",
     "traceback": [
      "\u001b[1;31m---------------------------------------------------------------------------\u001b[0m",
      "\u001b[1;31mNoSuchWindowException\u001b[0m                     Traceback (most recent call last)",
      "\u001b[1;32md:\\git_prog\\parsing\\lk_test copy.ipynb Ячейка 5\u001b[0m in \u001b[0;36m<cell line: 1>\u001b[1;34m()\u001b[0m\n\u001b[1;32m----> <a href='vscode-notebook-cell:/d%3A/git_prog/parsing/lk_test%20copy.ipynb#W3sZmlsZQ%3D%3D?line=0'>1</a>\u001b[0m cargo \u001b[39m=\u001b[39m driver\u001b[39m.\u001b[39;49mfind_element(\u001b[39m\"\u001b[39;49m\u001b[39mxpath\u001b[39;49m\u001b[39m\"\u001b[39;49m, \u001b[39m\"\u001b[39;49m\u001b[39m//input[@data-vv-name=\u001b[39;49m\u001b[39m'\u001b[39;49m\u001b[39mrate__cargo__cargo\u001b[39;49m\u001b[39m'\u001b[39;49m\u001b[39m]\u001b[39;49m\u001b[39m\"\u001b[39;49m )\n\u001b[0;32m      <a href='vscode-notebook-cell:/d%3A/git_prog/parsing/lk_test%20copy.ipynb#W3sZmlsZQ%3D%3D?line=1'>2</a>\u001b[0m cargo\u001b[39m.\u001b[39mclick()\n\u001b[0;32m      <a href='vscode-notebook-cell:/d%3A/git_prog/parsing/lk_test%20copy.ipynb#W3sZmlsZQ%3D%3D?line=2'>3</a>\u001b[0m cargo\u001b[39m.\u001b[39msend_keys(excel_data[\u001b[39m0\u001b[39m][\u001b[39m3\u001b[39m])\n",
      "File \u001b[1;32md:\\Users\\HUAWEI\\anaconda3\\lib\\site-packages\\selenium\\webdriver\\remote\\webdriver.py:976\u001b[0m, in \u001b[0;36mWebDriver.find_element\u001b[1;34m(self, by, value)\u001b[0m\n\u001b[0;32m    974\u001b[0m         by \u001b[39m=\u001b[39m By\u001b[39m.\u001b[39mCSS_SELECTOR\n\u001b[0;32m    975\u001b[0m         value \u001b[39m=\u001b[39m \u001b[39m'\u001b[39m\u001b[39m[name=\u001b[39m\u001b[39m\"\u001b[39m\u001b[39m%s\u001b[39;00m\u001b[39m\"\u001b[39m\u001b[39m]\u001b[39m\u001b[39m'\u001b[39m \u001b[39m%\u001b[39m value\n\u001b[1;32m--> 976\u001b[0m \u001b[39mreturn\u001b[39;00m \u001b[39mself\u001b[39;49m\u001b[39m.\u001b[39;49mexecute(Command\u001b[39m.\u001b[39;49mFIND_ELEMENT, {\n\u001b[0;32m    977\u001b[0m     \u001b[39m'\u001b[39;49m\u001b[39musing\u001b[39;49m\u001b[39m'\u001b[39;49m: by,\n\u001b[0;32m    978\u001b[0m     \u001b[39m'\u001b[39;49m\u001b[39mvalue\u001b[39;49m\u001b[39m'\u001b[39;49m: value})[\u001b[39m'\u001b[39m\u001b[39mvalue\u001b[39m\u001b[39m'\u001b[39m]\n",
      "File \u001b[1;32md:\\Users\\HUAWEI\\anaconda3\\lib\\site-packages\\selenium\\webdriver\\remote\\webdriver.py:321\u001b[0m, in \u001b[0;36mWebDriver.execute\u001b[1;34m(self, driver_command, params)\u001b[0m\n\u001b[0;32m    319\u001b[0m response \u001b[39m=\u001b[39m \u001b[39mself\u001b[39m\u001b[39m.\u001b[39mcommand_executor\u001b[39m.\u001b[39mexecute(driver_command, params)\n\u001b[0;32m    320\u001b[0m \u001b[39mif\u001b[39;00m response:\n\u001b[1;32m--> 321\u001b[0m     \u001b[39mself\u001b[39;49m\u001b[39m.\u001b[39;49merror_handler\u001b[39m.\u001b[39;49mcheck_response(response)\n\u001b[0;32m    322\u001b[0m     response[\u001b[39m'\u001b[39m\u001b[39mvalue\u001b[39m\u001b[39m'\u001b[39m] \u001b[39m=\u001b[39m \u001b[39mself\u001b[39m\u001b[39m.\u001b[39m_unwrap_value(\n\u001b[0;32m    323\u001b[0m         response\u001b[39m.\u001b[39mget(\u001b[39m'\u001b[39m\u001b[39mvalue\u001b[39m\u001b[39m'\u001b[39m, \u001b[39mNone\u001b[39;00m))\n\u001b[0;32m    324\u001b[0m     \u001b[39mreturn\u001b[39;00m response\n",
      "File \u001b[1;32md:\\Users\\HUAWEI\\anaconda3\\lib\\site-packages\\selenium\\webdriver\\remote\\errorhandler.py:242\u001b[0m, in \u001b[0;36mErrorHandler.check_response\u001b[1;34m(self, response)\u001b[0m\n\u001b[0;32m    240\u001b[0m         alert_text \u001b[39m=\u001b[39m value[\u001b[39m'\u001b[39m\u001b[39malert\u001b[39m\u001b[39m'\u001b[39m]\u001b[39m.\u001b[39mget(\u001b[39m'\u001b[39m\u001b[39mtext\u001b[39m\u001b[39m'\u001b[39m)\n\u001b[0;32m    241\u001b[0m     \u001b[39mraise\u001b[39;00m exception_class(message, screen, stacktrace, alert_text)\n\u001b[1;32m--> 242\u001b[0m \u001b[39mraise\u001b[39;00m exception_class(message, screen, stacktrace)\n",
      "\u001b[1;31mNoSuchWindowException\u001b[0m: Message: no such window: target window already closed\nfrom unknown error: web view not found\n  (Session info: chrome=112.0.5615.138)\n"
     ]
    }
   ],
   "source": [
    "\n",
    "cargo = driver.find_element(\"xpath\", \"//input[@data-vv-name='rate__cargo__cargo']\" )\n",
    "cargo.click()\n",
    "cargo.send_keys(excel_data[0][3])\n",
    "time.sleep(2)\n",
    "cargo.send_keys(Keys.ENTER)\n",
    "\n"
   ]
  },
  {
   "cell_type": "code",
   "execution_count": null,
   "metadata": {
    "collapsed": false
   },
   "outputs": [],
   "source": []
  }
 ],
 "metadata": {
  "kernelspec": {
   "display_name": "base",
   "language": "python",
   "name": "python3"
  },
  "language_info": {
   "codemirror_mode": {
    "name": "ipython",
    "version": 3
   },
   "file_extension": ".py",
   "mimetype": "text/x-python",
   "name": "python",
   "nbconvert_exporter": "python",
   "pygments_lexer": "ipython3",
   "version": "3.9.12"
  },
  "orig_nbformat": 4
 },
 "nbformat": 4,
 "nbformat_minor": 2
}
